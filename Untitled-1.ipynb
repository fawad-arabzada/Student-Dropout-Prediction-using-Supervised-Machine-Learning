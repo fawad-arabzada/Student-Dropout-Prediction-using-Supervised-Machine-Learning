{
 "cells": [
  {
   "cell_type": "code",
   "execution_count": null,
   "id": "414a533d",
   "metadata": {},
   "outputs": [
    {
     "name": "stdout",
     "output_type": "stream",
     "text": [
      "   Marital status  Application mode  Application order  Course  Daytime/evening attendance\\t  Previous qualification  Previous qualification (grade)  Nacionality  Mother's qualification  Father's qualification  Mother's occupation  Father's occupation  Admission grade  Displaced  Educational special needs  Debtor  Tuition fees up to date  Gender  Scholarship holder  Age at enrollment  International  Curricular units 1st sem (credited)  Curricular units 1st sem (enrolled)  Curricular units 1st sem (evaluations)  Curricular units 1st sem (approved)  Curricular units 1st sem (grade)  Curricular units 1st sem (without evaluations)  Curricular units 2nd sem (credited)  Curricular units 2nd sem (enrolled)  Curricular units 2nd sem (evaluations)  Curricular units 2nd sem (approved)  Curricular units 2nd sem (grade)  Curricular units 2nd sem (without evaluations)  Unemployment rate  Inflation rate   GDP    Target\n",
      "0               1                17                  5     171                    1                             1                   122.0                       1                   19                      12                       5                    9            127.3          1                    0             0                    1           1                   0                 20              0                    0                                    0                                    0                                       0                             0.000000                                 0                                               0                                    0                                    0                                       0                             0.000000                                 0                                          10.8             1.4  1.74   Dropout\n",
      "1               1                15                  1    9254                    1                             1                   160.0                       1                    1                       3                       3                    3            142.5          1                    0             0                    0           1                   0                 19              0                    0                                    6                                    6                                       6                            14.000000                                 0                                               0                                    6                                    6                                       6                            13.666667                                 0                                          13.9            -0.3  0.79  Graduate\n",
      "2               1                 1                  5    9070                    1                             1                   122.0                       1                   37                      37                       9                    9            124.8          1                    0             0                    0           1                   0                 19              0                    0                                    6                                    0                                       0                             0.000000                                 0                                               0                                    6                                    0                                       0                             0.000000                                 0                                          10.8             1.4  1.74   Dropout\n",
      "3               1                17                  2    9773                    1                             1                   122.0                       1                   38                      37                       5                    3            119.6          1                    0             0                    1           0                   0                 20              0                    0                                    6                                    8                                       6                            13.428571                                 0                                               0                                    6                                   10                                       5                            12.400000                                 0                                           9.4            -0.8 -3.12  Graduate\n",
      "4               2                39                  1    8014                    0                             1                   100.0                       1                   37                      38                       9                    9            141.5          0                    0             0                    1           0                   0                 45              0                    0                                    6                                    9                                       5                            12.333333                                 0                                               0                                    6                                    6                                       6                            13.000000                                 0                                          13.9            -0.3  0.79  Graduate\n"
     ]
    }
   ],
   "source": [
    "import pandas as pd\n",
    "\n",
    "data = pd.read_csv('data.csv', sep=';')\n",
    "data\n",
    "\n",
    "pd.set_option('display.max_columns', None)      # Show all columns\n",
    "pd.set_option('display.width', 1000)            # Set wider display\n",
    "pd.set_option('display.max_colwidth', 20)       # Limit column name width\n",
    "\n",
    "print(data.head())"
   ]
  },
  {
   "cell_type": "code",
   "execution_count": 14,
   "id": "cf8cf028",
   "metadata": {},
   "outputs": [
    {
     "name": "stdout",
     "output_type": "stream",
     "text": [
      "Target\n",
      "Graduate    2209\n",
      "Dropout     1421\n",
      "Enrolled     794\n",
      "Name: count, dtype: int64\n"
     ]
    }
   ],
   "source": [
    "print(data['Target'].value_counts())"
   ]
  },
  {
   "cell_type": "markdown",
   "id": "88d69a87",
   "metadata": {},
   "source": [
    "### Missing value \n",
    "The dataset was checked for missing values using the .isnull().sum() method. No missing values were found in any of the columns. Therefore, no imputation or removal techniques were necessary in this step."
   ]
  },
  {
   "cell_type": "code",
   "execution_count": null,
   "id": "710e95b0",
   "metadata": {},
   "outputs": [
    {
     "name": "stdout",
     "output_type": "stream",
     "text": [
      "Missing values in each column:\n",
      " Marital status                                    0\n",
      "Application mode                                  0\n",
      "Application order                                 0\n",
      "Course                                            0\n",
      "Daytime/evening attendance\\t                      0\n",
      "Previous qualification                            0\n",
      "Previous qualification (grade)                    0\n",
      "Nacionality                                       0\n",
      "Mother's qualification                            0\n",
      "Father's qualification                            0\n",
      "Mother's occupation                               0\n",
      "Father's occupation                               0\n",
      "Admission grade                                   0\n",
      "Displaced                                         0\n",
      "Educational special needs                         0\n",
      "Debtor                                            0\n",
      "Tuition fees up to date                           0\n",
      "Gender                                            0\n",
      "Scholarship holder                                0\n",
      "Age at enrollment                                 0\n",
      "International                                     0\n",
      "Curricular units 1st sem (credited)               0\n",
      "Curricular units 1st sem (enrolled)               0\n",
      "Curricular units 1st sem (evaluations)            0\n",
      "Curricular units 1st sem (approved)               0\n",
      "Curricular units 1st sem (grade)                  0\n",
      "Curricular units 1st sem (without evaluations)    0\n",
      "Curricular units 2nd sem (credited)               0\n",
      "Curricular units 2nd sem (enrolled)               0\n",
      "Curricular units 2nd sem (evaluations)            0\n",
      "Curricular units 2nd sem (approved)               0\n",
      "Curricular units 2nd sem (grade)                  0\n",
      "Curricular units 2nd sem (without evaluations)    0\n",
      "Unemployment rate                                 0\n",
      "Inflation rate                                    0\n",
      "GDP                                               0\n",
      "Target                                            0\n",
      "dtype: int64\n",
      " No missing values detected.\n"
     ]
    }
   ],
   "source": [
    "missing = data.isnull().sum()\n",
    "print(\"Missing values in each column:\\n\", missing)\n",
    "\n",
    "print(\" No missing values detected.\")\n"
   ]
  },
  {
   "cell_type": "markdown",
   "id": "96e1e477",
   "metadata": {},
   "source": [
    "### Convert Target Column to Binary \n",
    "This transforms your multi-class classification to a binary classification, which is required for dropout prediction."
   ]
  },
  {
   "cell_type": "code",
   "execution_count": null,
   "id": "dbe32bad",
   "metadata": {},
   "outputs": [
    {
     "name": "stdout",
     "output_type": "stream",
     "text": [
      "Target\n",
      "0    3003\n",
      "1    1421\n",
      "Name: count, dtype: int64\n"
     ]
    }
   ],
   "source": [
    "# Convert Target to binary: 1 = Dropout, 0 = Not Dropout (Graduate or Enrolled)\n",
    "data['Target'] = data['Target'].apply(lambda x: 1 if x == 'Dropout' else 0)\n",
    "\n",
    "print(data['Target'].value_counts())\n"
   ]
  },
  {
   "cell_type": "code",
   "execution_count": null,
   "id": "ed94bc44",
   "metadata": {},
   "outputs": [
    {
     "data": {
      "image/png": "[encoded data removed]",
      "text/plain": [
       "<Figure size 600x400 with 1 Axes>"
      ]
     },
     "metadata": {},
     "output_type": "display_data"
    }
   ],
   "source": [
    "import seaborn as sns\n",
    "import matplotlib.pyplot as plt\n",
    "\n",
    "plt.figure(figsize=(6, 4))\n",
    "sns.countplot(data=data, x='Target', palette='Set2')\n",
    "plt.title('Distribution of Dropout vs Not Dropout')\n",
    "plt.xticks([0, 1], ['Not Dropout', 'Dropout'])\n",
    "plt.xlabel('Target')\n",
    "plt.ylabel('Number of Students')\n",
    "plt.tight_layout()\n",
    "plt.show()\n"
   ]
  },
  {
   "cell_type": "code",
   "execution_count": 19,
   "id": "a09c7cfd",
   "metadata": {},
   "outputs": [
    {
     "name": "stdout",
     "output_type": "stream",
     "text": [
      "Target\n",
      "0    3003\n",
      "1    1421\n",
      "Name: count, dtype: int64\n"
     ]
    }
   ],
   "source": [
    "print(data['Target'].value_counts())"
   ]
  },
  {
   "cell_type": "markdown",
   "id": "e9d9e45a",
   "metadata": {},
   "source": [
    "###  Feature Scaling\n",
    "We will use Standardization (Z-score scaling) because many ML models (e.g., Logistic Regression, SVM) perform better with normally distributed data."
   ]
  },
  {
   "cell_type": "code",
   "execution_count": 20,
   "id": "dd3cd624",
   "metadata": {},
   "outputs": [],
   "source": [
    "from sklearn.preprocessing import StandardScaler\n",
    "\n",
    "# Select only numeric features (excluding target)\n",
    "numeric_cols = data.select_dtypes(include=['int64', 'float64']).columns.tolist()\n",
    "numeric_cols = [col for col in numeric_cols if col != 'Target']\n",
    "\n",
    "# Apply StandardScaler\n",
    "scaler = StandardScaler()\n",
    "data[numeric_cols] = scaler.fit_transform(data[numeric_cols])\n"
   ]
  },
  {
   "cell_type": "markdown",
   "id": "46c6f722",
   "metadata": {},
   "source": [
    "### Encoding Categorical Variables \n"
   ]
  },
  {
   "cell_type": "code",
   "execution_count": 21,
   "id": "bb75c471",
   "metadata": {},
   "outputs": [],
   "source": [
    "# Identify categorical columns (object type)\n",
    "categorical_cols = data.select_dtypes(include=['object']).columns.tolist()\n",
    "\n",
    "# Apply One-Hot Encoding with drop_first to avoid dummy variable trap\n",
    "data = pd.get_dummies(data, columns=categorical_cols, drop_first=True)\n"
   ]
  },
  {
   "cell_type": "markdown",
   "id": "1d42f8af",
   "metadata": {},
   "source": [
    "### feature Engineering \n",
    "process of creating new input features from your existing data to improve model performance. The idea is to help the model uncover patterns that may not be obvious from raw data.\n",
    "Feature Engineering Summary:\n",
    "New feature was  created to improve model prediction\n",
    "\n",
    "    Age_at_enrollment: Age when student joined.\n",
    "\n",
    "    "
   ]
  },
  {
   "cell_type": "code",
   "execution_count": 4,
   "id": "124abc1b",
   "metadata": {},
   "outputs": [],
   "source": [
    "# Example if Year columns exist\n",
    "if 'Year of birth' in data.columns and 'Application mode' in data.columns:\n",
    "    data['Age_at_enrollment'] = 2020 - data['Year of birth']  # or use actual year if available\n",
    "    print(\" Created feature: Age_at_enrollment\")\n"
   ]
  },
  {
   "cell_type": "markdown",
   "id": "1d5391c4",
   "metadata": {},
   "source": [
    "####  Data Splitting\n",
    " The dataset was split into 80% training and 20% testing sets using train_test_split to ensure the model is trained on the majority of the data and evaluated on unseen data for performance assessment."
   ]
  },
  {
   "cell_type": "code",
   "execution_count": null,
   "id": "51d5ac39",
   "metadata": {},
   "outputs": [],
   "source": [
    "from sklearn.model_selection import train_test_split\n",
    "\n",
    "# Separate features and target\n",
    "X = data.drop('Target', axis=1)\n",
    "y = data['Target']\n",
    "\n",
    "X_train, X_test, y_train, y_test = train_test_split(X, y, test_size=0.2, random_state=42, stratify=y)\n"
   ]
  },
  {
   "cell_type": "markdown",
   "id": "e15fef67",
   "metadata": {},
   "source": [
    "###  confirm \n",
    "that the ratio of 0s and 1s (Not Dropout vs Dropout) is maintained in both y_train and y_test.\n"
   ]
  },
  {
   "cell_type": "code",
   "execution_count": null,
   "id": "4d5a4c95",
   "metadata": {},
   "outputs": [
    {
     "data": {
      "image/png": "[encoded data removed]",
      "text/plain": [
       "<Figure size 800x500 with 1 Axes>"
      ]
     },
     "metadata": {},
     "output_type": "display_data"
    }
   ],
   "source": [
    "import pandas as pd\n",
    "import matplotlib.pyplot as plt\n",
    "\n",
    "train_dist = pd.Series(y_train).value_counts(normalize=True).rename('Train').sort_index()\n",
    "test_dist = pd.Series(y_test).value_counts(normalize=True).rename('Test').sort_index()\n",
    "\n",
    "split_dist = pd.concat([train_dist, test_dist], axis=1)\n",
    "split_dist.index = ['Not Dropout (0)', 'Dropout (1)']\n",
    "\n",
    "\n",
    "split_dist.plot(kind='bar', figsize=(8, 5), color=['skyblue', 'salmon'])\n",
    "plt.title('Target Class Distribution: Train vs Test')\n",
    "plt.ylabel('Proportion')\n",
    "plt.xlabel('Class')\n",
    "plt.xticks(rotation=0)\n",
    "plt.ylim(0, 1)\n",
    "plt.legend(title='Split')\n",
    "plt.tight_layout()\n",
    "plt.show()\n"
   ]
  },
  {
   "cell_type": "markdown",
   "id": "eed3c668",
   "metadata": {},
   "source": [
    "###  Models Used "
   ]
  },
  {
   "cell_type": "markdown",
   "id": "4a9dea91",
   "metadata": {},
   "source": [
    "### 1.0 Logistic Regression"
   ]
  },
  {
   "cell_type": "code",
   "execution_count": null,
   "id": "5b9092ee",
   "metadata": {},
   "outputs": [
    {
     "name": "stdout",
     "output_type": "stream",
     "text": [
      " Logistic Regression Results:\n",
      "ROC-AUC Score: 0.9267711091842233\n",
      "\n",
      "Confusion Matrix:\n",
      " [[577  24]\n",
      " [ 75 209]]\n",
      "\n",
      "Classification Report:\n",
      "               precision    recall  f1-score   support\n",
      "\n",
      "           0       0.88      0.96      0.92       601\n",
      "           1       0.90      0.74      0.81       284\n",
      "\n",
      "    accuracy                           0.89       885\n",
      "   macro avg       0.89      0.85      0.86       885\n",
      "weighted avg       0.89      0.89      0.88       885\n",
      "\n"
     ]
    }
   ],
   "source": [
    "from sklearn.linear_model import LogisticRegression\n",
    "from sklearn.metrics import accuracy_score, confusion_matrix, classification_report, roc_auc_score\n",
    "\n",
    "log_model = LogisticRegression(max_iter=1000, random_state=42)\n",
    "\n",
    "# Train the model\n",
    "log_model.fit(X_train, y_train)\n",
    "\n",
    "# Predict on the test set\n",
    "y_pred_log = log_model.predict(X_test)\n",
    "\n",
    "# Predict probabilities for ROC-AUC\n",
    "y_proba_log = log_model.predict_proba(X_test)[:, 1]\n",
    "\n",
    "# Evaluate the model\n",
    "print(\" Logistic Regression Results:\")\n",
    "print(\"ROC-AUC Score:\", roc_auc_score(y_test, y_proba_log))  #  Added line\n",
    "print(\"\\nConfusion Matrix:\\n\", confusion_matrix(y_test, y_pred_log))\n",
    "print(\"\\nClassification Report:\\n\", classification_report(y_test, y_pred_log))\n"
   ]
  },
  {
   "cell_type": "markdown",
   "id": "3e05e4a6",
   "metadata": {},
   "source": [
    "### Decison tree "
   ]
  },
  {
   "cell_type": "code",
   "execution_count": null,
   "id": "135e7672",
   "metadata": {},
   "outputs": [
    {
     "name": "stdout",
     "output_type": "stream",
     "text": [
      " Decision Tree Results:\n",
      "ROC-AUC Score: 0.7779141571559138\n",
      "\n",
      "Confusion Matrix:\n",
      " [[497 104]\n",
      " [ 77 207]]\n",
      "\n",
      "Classification Report:\n",
      "               precision    recall  f1-score   support\n",
      "\n",
      "           0       0.87      0.83      0.85       601\n",
      "           1       0.67      0.73      0.70       284\n",
      "\n",
      "    accuracy                           0.80       885\n",
      "   macro avg       0.77      0.78      0.77       885\n",
      "weighted avg       0.80      0.80      0.80       885\n",
      "\n"
     ]
    }
   ],
   "source": [
    "from sklearn.tree import DecisionTreeClassifier\n",
    "from sklearn.metrics import accuracy_score, confusion_matrix, classification_report, roc_auc_score\n",
    "\n",
    "# Initialize the model\n",
    "dt_model = DecisionTreeClassifier(random_state=42)\n",
    "\n",
    "# Train the model\n",
    "dt_model.fit(X_train, y_train)\n",
    "\n",
    "# Predict on the test set\n",
    "y_pred_dt = dt_model.predict(X_test)\n",
    "\n",
    "# Predict probabilities for ROC-AUC\n",
    "y_proba_dt = dt_model.predict_proba(X_test)[:, 1]\n",
    "\n",
    "# Evaluate the model\n",
    "print(\" Decision Tree Results:\")\n",
    "print(\"ROC-AUC Score:\", roc_auc_score(y_test, y_proba_dt))  #  Added line\n",
    "print(\"\\nConfusion Matrix:\\n\", confusion_matrix(y_test, y_pred_dt))\n",
    "print(\"\\nClassification Report:\\n\", classification_report(y_test, y_pred_dt))\n"
   ]
  },
  {
   "cell_type": "markdown",
   "id": "d2dd30d1",
   "metadata": {},
   "source": [
    "### Random Forest"
   ]
  },
  {
   "cell_type": "code",
   "execution_count": null,
   "id": "99faa2a2",
   "metadata": {},
   "outputs": [
    {
     "name": "stdout",
     "output_type": "stream",
     "text": [
      " Random Forest Results:\n",
      "ROC-AUC Score: 0.9294485716294439\n",
      "\n",
      "Confusion Matrix:\n",
      " [[577  24]\n",
      " [ 77 207]]\n",
      "\n",
      "Classification Report:\n",
      "               precision    recall  f1-score   support\n",
      "\n",
      "           0       0.88      0.96      0.92       601\n",
      "           1       0.90      0.73      0.80       284\n",
      "\n",
      "    accuracy                           0.89       885\n",
      "   macro avg       0.89      0.84      0.86       885\n",
      "weighted avg       0.89      0.89      0.88       885\n",
      "\n"
     ]
    }
   ],
   "source": [
    "from sklearn.ensemble import RandomForestClassifier\n",
    "from sklearn.metrics import accuracy_score, confusion_matrix, classification_report, roc_auc_score\n",
    "\n",
    "# Initialize the model\n",
    "rf_model = RandomForestClassifier(n_estimators=100, random_state=42)\n",
    "\n",
    "# Train the model\n",
    "rf_model.fit(X_train, y_train)\n",
    "\n",
    "# Predict on the test set\n",
    "y_pred_rf = rf_model.predict(X_test)\n",
    "\n",
    "# Predict probabilities for ROC-AUC\n",
    "y_proba_rf = rf_model.predict_proba(X_test)[:, 1]\n",
    "\n",
    "# Evaluate the model\n",
    "print(\" Random Forest Results:\")\n",
    "print(\"ROC-AUC Score:\", roc_auc_score(y_test, y_proba_rf))  #  Added line\n",
    "print(\"\\nConfusion Matrix:\\n\", confusion_matrix(y_test, y_pred_rf))\n",
    "print(\"\\nClassification Report:\\n\", classification_report(y_test, y_pred_rf))\n"
   ]
  },
  {
   "cell_type": "markdown",
   "id": "eb3380f5",
   "metadata": {},
   "source": [
    "### SVM"
   ]
  },
  {
   "cell_type": "code",
   "execution_count": null,
   "id": "8d4121f1",
   "metadata": {},
   "outputs": [
    {
     "name": "stdout",
     "output_type": "stream",
     "text": [
      "Support Vector Machine Results:\n",
      "ROC-AUC Score: 0.9248640763047502\n",
      "\n",
      "Confusion Matrix:\n",
      " [[581  20]\n",
      " [ 95 189]]\n",
      "\n",
      "Classification Report:\n",
      "               precision    recall  f1-score   support\n",
      "\n",
      "           0       0.86      0.97      0.91       601\n",
      "           1       0.90      0.67      0.77       284\n",
      "\n",
      "    accuracy                           0.87       885\n",
      "   macro avg       0.88      0.82      0.84       885\n",
      "weighted avg       0.87      0.87      0.86       885\n",
      "\n"
     ]
    }
   ],
   "source": [
    "from sklearn.svm import SVC\n",
    "from sklearn.metrics import accuracy_score, confusion_matrix, classification_report, roc_auc_score\n",
    "\n",
    "# Initialize the model with probability=True to enable ROC-AUC calculation\n",
    "svm_model = SVC(kernel='rbf', probability=True, random_state=42)\n",
    "\n",
    "# Train the model\n",
    "svm_model.fit(X_train, y_train)\n",
    "\n",
    "# Predict on the test set\n",
    "y_pred_svm = svm_model.predict(X_test)\n",
    "\n",
    "# Predict probabilities for ROC-AUC\n",
    "y_proba_svm = svm_model.predict_proba(X_test)[:, 1]\n",
    "\n",
    "# Evaluate the model\n",
    "print(\"Support Vector Machine Results:\")\n",
    "print(\"ROC-AUC Score:\", roc_auc_score(y_test, y_proba_svm))  # Added line\n",
    "print(\"\\nConfusion Matrix:\\n\", confusion_matrix(y_test, y_pred_svm))\n",
    "print(\"\\nClassification Report:\\n\", classification_report(y_test, y_pred_svm))\n"
   ]
  },
  {
   "cell_type": "markdown",
   "id": "d2b08e4b",
   "metadata": {},
   "source": [
    "### Model Performance Metrics"
   ]
  },
  {
   "cell_type": "markdown",
   "id": "55a7afdd",
   "metadata": {},
   "source": [
    "| Model                      | Accuracy | Precision (Class 1) | Recall (Class 1) | F1-Score (Class 1) | ROC-AUC Score |\n",
    "| -------------------------- | -------- | ------------------- | ---------------- | ------------------ | ------------- |\n",
    "| **Logistic Regression**    | 0.8881   | 0.90                | 0.74             | 0.81               | 0.9268        |\n",
    "| **Decision Tree**          | 0.7955   | 0.67                | 0.73             | 0.70               | 0.7779        |\n",
    "| **Random Forest**          | 0.8859   | 0.90                | 0.73             | 0.80               | 0.9294        |\n",
    "| **Support Vector Machine** | 0.8701   | 0.90                | 0.67             | 0.77               | 0.9249        |\n",
    "\n",
    "\n",
    "\n",
    " Insights:\n",
    "\n",
    "    Accuracy: Logistic Regression and Random Forest perform best (≈88.8% and 88.6%).\n",
    "\n",
    "    Precision: All models show strong precision (≈0.90), meaning they’re good at minimizing false positives.\n",
    "\n",
    "    Recall: Logistic Regression and Decision Tree have higher recall for class 1 (74% and 73%), important when false negatives are costly.\n",
    "\n",
    "    F1-Score: Logistic Regression has the highest F1-score (0.81), balancing precision and recall well.\n",
    "\n",
    "    ROC-AUC: Random Forest has the highest ROC-AUC (0.9294), indicating it separates the classes best overall."
   ]
  },
  {
   "cell_type": "markdown",
   "id": "3e3a00f1",
   "metadata": {},
   "source": [
    "### model selection \n",
    "Based on the comparison of performance metrics:\n",
    "\n",
    "    Random Forest slightly outperforms the other models in terms of ROC-AUC Score (0.9294) and F1-Score (0.80) while maintaining high accuracy (0.8859).\n",
    "\n",
    "    Logistic Regression is a close second with the highest F1-Score (0.81) and nearly equal ROC-AUC (0.9268).\n",
    "\n",
    "    Decision Tree performs worst in terms of most metrics, while SVM has strong precision but lower recall.\n",
    "\n",
    "👉 Selected Model: Random Forest\n",
    "Reason: It provides the best balance between accuracy, precision, recall, F1-score, and ROC-AUC, making it the most reliable model for this classification task."
   ]
  },
  {
   "cell_type": "markdown",
   "id": "3abf3454",
   "metadata": {},
   "source": [
    "### Visualization: Bar Chart of Model Performance"
   ]
  },
  {
   "cell_type": "code",
   "execution_count": null,
   "id": "4c6d26d3",
   "metadata": {},
   "outputs": [
    {
     "data": {
      "image/png": "[encoded data removed]",
      "text/plain": [
       "<Figure size 1000x600 with 1 Axes>"
      ]
     },
     "metadata": {},
     "output_type": "display_data"
    }
   ],
   "source": [
    "import matplotlib.pyplot as plt\n",
    "import numpy as np\n",
    "\n",
    "# Updated values from  results\n",
    "models = ['Logistic Regression', 'Decision Tree', 'Random Forest', 'SVM']\n",
    "accuracy = [0.8881, 0.7955, 0.8859, 0.8701]\n",
    "f1_score = [0.81, 0.70, 0.80, 0.77]\n",
    "roc_auc = [0.9268, 0.7779, 0.9294, 0.9249]\n",
    "\n",
    "x = np.arange(len(models))\n",
    "width = 0.25\n",
    "\n",
    "fig, ax = plt.subplots(figsize=(10,6))\n",
    "rects1 = ax.bar(x - width, accuracy, width, label='Accuracy')\n",
    "rects2 = ax.bar(x, f1_score, width, label='F1-Score (Class 1)')\n",
    "rects3 = ax.bar(x + width, roc_auc, width, label='ROC-AUC Score')\n",
    "\n",
    "ax.set_xlabel('Models')\n",
    "ax.set_title('Comparison of Model Performance Metrics')\n",
    "ax.set_xticks(x)\n",
    "ax.set_xticklabels(models)\n",
    "ax.legend()\n",
    "ax.set_ylim([0.5, 1.0])\n",
    "\n",
    "# Adding data labels\n",
    "def add_labels(rects):\n",
    "    for rect in rects:\n",
    "        height = rect.get_height()\n",
    "        ax.annotate(f'{height:.2f}',\n",
    "                    xy=(rect.get_x() + rect.get_width() / 2, height),\n",
    "                    xytext=(0, 3),\n",
    "                    textcoords='offset points',\n",
    "                    ha='center', va='bottom')\n",
    "\n",
    "add_labels(rects1)\n",
    "add_labels(rects2)\n",
    "add_labels(rects3)\n",
    "\n",
    "plt.tight_layout()\n",
    "plt.show()\n"
   ]
  }
 ],
 "metadata": {
  "kernelspec": {
   "display_name": "base",
   "language": "python",
   "name": "python3"
  },
  "language_info": {
   "codemirror_mode": {
    "name": "ipython",
    "version": 3
   },
   "file_extension": ".py",
   "mimetype": "text/x-python",
   "name": "python",
   "nbconvert_exporter": "python",
   "pygments_lexer": "ipython3",
   "version": "3.11.7"
  }
 },
 "nbformat": 4,
 "nbformat_minor": 5
}
